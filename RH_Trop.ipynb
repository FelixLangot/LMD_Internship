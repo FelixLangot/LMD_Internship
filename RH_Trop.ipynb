{
 "metadata": {
  "language_info": {
   "codemirror_mode": {
    "name": "ipython",
    "version": 3
   },
   "file_extension": ".py",
   "mimetype": "text/x-python",
   "name": "python",
   "nbconvert_exporter": "python",
   "pygments_lexer": "ipython3",
   "version": "3.7.4-final"
  },
  "orig_nbformat": 2,
  "kernelspec": {
   "name": "python3",
   "display_name": "Python 3.7.4 64-bit ('base': conda)",
   "metadata": {
    "interpreter": {
     "hash": "344443636c3027c5042750c9c609acdda283a9c43681b128a8c1053e7ad2aa7d"
    }
   }
  }
 },
 "nbformat": 4,
 "nbformat_minor": 2,
 "cells": [
  {
   "source": [
    "# Step 5: Taking into account atmospheric subsidence  \n",
    "\n",
    "<img src=\"Figs/lastsaturationsubsidence.svg\" width=\"700\" height=\"450\">\n",
    "\n",
    "To make our model more realistic, we want to take into account the fact that air parcels move with finite speed through the environment. This speed is given by the atmospheric subsidence $w_{env}$. Suppose we have $N$ CRM simulations of atmospheric cloud states with corresponding times $t_i$, $i \\in [1,N]$. Assuming those states are regularly separated by a time step $\\Delta t$, the vertical distance covered by a moving parcel between two states will be   \n",
    "$$\n",
    "\\Delta z = w_{env}\\Delta t\n",
    "$$\n",
    "Being interested by the last saturation altitude of an air parcel located in the troposphere ($z_{parcel}$ ~ 5km) at time $t_N$, we can only look for clouds in the interval $[z_{parcel}; z_{parcel} + \\Delta z]$ at $t_N$, because this is the maximum distance the parcel can cover between $t_N$ and $t_{N-1}$.  \n",
    "\n",
    "Now, let's assume no clouds are found at $t_N$ between $z_{parcel}$ and $z_{parcel} + \\Delta z$. We can still find the altitude of last saturation of the parcel, by looking at earlier times. Every step backwards in time elevates the parcel by $\\Delta z$ in the atmosphere. The distance covered between $t_{N-2}$ and $t_N$ is therefore $2\\Delta z$. This can be generalised to find the maximum value of $z_{clouds}$ (altitude above the parcel) as a function of atmospheric cloud state $i$\n",
    "$$\n",
    "\\Delta z_i = (N-i+1) w_{env}\\Delta t\n",
    "$$\n",
    "We could therefore find our new $z_{clouds}$ by making minor tweaks to our previous method. The process could be to compute all the lowest altitudes of clouds above $z_{parcel}$ = 5 km for an increasing range of $z$ values as we go back in time. For example, at $t_N$ we could only search in the range $[z_{parcel}; z_{parcel} + \\Delta z]$, at $t_{N-1}$ in the range $[z_{parcel}; z_{parcel} + 2\\Delta z]$, etc.. Then, the actual $z_{clouds}$ corresponding to the last saturation would be found by taking the lowest altitudes of clouds above the parcel at the highest $i$."
   ],
   "cell_type": "markdown",
   "metadata": {}
  },
  {
   "source": [
    "**Potential problems with this apporach**  \n",
    "\n",
    "<img src=\"Figs/problems.svg\" width=\"500\" height=\"400\"> \n",
    "\n",
    "Setting $\\Delta t$ small enough should solve these issues in two ways:  \n",
    "- It prevents the parcel from travelling large distances between $t_i$ and $t_{i+1}$ and miss some cloudy regions  \n",
    "- It makes the clouds move slow enough so that from one $t_i$ to the next, cloudy regions cannot appear between the different parcel altitudes at $t_i$ and $t_{i+1}$"
   ],
   "cell_type": "markdown",
   "metadata": {}
  },
  {
   "cell_type": "code",
   "execution_count": null,
   "metadata": {},
   "outputs": [],
   "source": []
  }
 ]
}